{
  "nbformat": 4,
  "nbformat_minor": 0,
  "metadata": {
    "colab": {
      "provenance": []
    },
    "kernelspec": {
      "name": "python3",
      "display_name": "Python 3"
    },
    "language_info": {
      "name": "python"
    }
  },
  "cells": [
    {
      "cell_type": "markdown",
      "source": [
        "Step 1: Install PySpark"
      ],
      "metadata": {
        "id": "gtZ1ke_lzuOz"
      }
    },
    {
      "cell_type": "code",
      "source": [
        "#Install PySpark\n",
        "!pip install pyspark"
      ],
      "metadata": {
        "colab": {
          "base_uri": "https://localhost:8080/"
        },
        "id": "xZmb4wh1y6xM",
        "outputId": "a73461ac-a50d-4c0c-9676-cade1a7c7f3d"
      },
      "execution_count": 1,
      "outputs": [
        {
          "output_type": "stream",
          "name": "stdout",
          "text": [
            "Requirement already satisfied: pyspark in /usr/local/lib/python3.11/dist-packages (3.5.1)\n",
            "Requirement already satisfied: py4j==0.10.9.7 in /usr/local/lib/python3.11/dist-packages (from pyspark) (0.10.9.7)\n"
          ]
        }
      ]
    },
    {
      "cell_type": "markdown",
      "source": [
        "Step 2 : Import PySpark"
      ],
      "metadata": {
        "id": "cgeP73Tnz4wO"
      }
    },
    {
      "cell_type": "code",
      "source": [
        "from pyspark.sql import SparkSession\n",
        "from pyspark.sql.functions import col, avg, count, hour, dayofweek"
      ],
      "metadata": {
        "id": "Y32Ar9Niy9jm"
      },
      "execution_count": 2,
      "outputs": []
    },
    {
      "cell_type": "markdown",
      "source": [
        "Step 3 : Intialization"
      ],
      "metadata": {
        "id": "snrDjxt80BRF"
      }
    },
    {
      "cell_type": "code",
      "source": [
        "# Initialize Spark Session\n",
        "spark = SparkSession.builder \\\n",
        "    .appName(\"Big Data Analysis - NYC Taxi Trip\") \\\n",
        "    .getOrCreate()"
      ],
      "metadata": {
        "id": "GX3TuyfNy_0S"
      },
      "execution_count": 3,
      "outputs": []
    },
    {
      "cell_type": "markdown",
      "source": [
        "Step 4 : Download the Dataset"
      ],
      "metadata": {
        "id": "MNSsvjsJ0FV5"
      }
    },
    {
      "cell_type": "code",
      "source": [
        "# Download sample NYC Yellow Taxi dataset (January 2023)\n",
        "!wget https://d37ci6vzurychx.cloudfront.net/trip-data/yellow_tripdata_2023-01.parquet -O yellow_tripdata_2023-01.parquet\n"
      ],
      "metadata": {
        "colab": {
          "base_uri": "https://localhost:8080/"
        },
        "id": "x2CF36JAzD_q",
        "outputId": "03c9335d-2560-4552-a32f-62d15adbb275"
      },
      "execution_count": 4,
      "outputs": [
        {
          "output_type": "stream",
          "name": "stdout",
          "text": [
            "--2025-06-21 14:02:43--  https://d37ci6vzurychx.cloudfront.net/trip-data/yellow_tripdata_2023-01.parquet\n",
            "Resolving d37ci6vzurychx.cloudfront.net (d37ci6vzurychx.cloudfront.net)... 3.163.157.7, 3.163.157.133, 3.163.157.96, ...\n",
            "Connecting to d37ci6vzurychx.cloudfront.net (d37ci6vzurychx.cloudfront.net)|3.163.157.7|:443... connected.\n",
            "HTTP request sent, awaiting response... 200 OK\n",
            "Length: 47673370 (45M) [application/x-www-form-urlencoded]\n",
            "Saving to: ‘yellow_tripdata_2023-01.parquet’\n",
            "\n",
            "yellow_tripdata_202 100%[===================>]  45.46M   230MB/s    in 0.2s    \n",
            "\n",
            "2025-06-21 14:02:43 (230 MB/s) - ‘yellow_tripdata_2023-01.parquet’ saved [47673370/47673370]\n",
            "\n"
          ]
        }
      ]
    },
    {
      "cell_type": "markdown",
      "source": [
        "Step 5 : Load the Dataset"
      ],
      "metadata": {
        "id": "tgpcjBjC0Le9"
      }
    },
    {
      "cell_type": "code",
      "source": [
        "\n",
        "file_path = \"yellow_tripdata_2023-01.parquet\"\n",
        "df = spark.read.parquet(file_path)  # ✅ Make sure df is defined here\n",
        "\n",
        "# Show the schema to confirm it loaded\n",
        "df.printSchema()\n"
      ],
      "metadata": {
        "colab": {
          "base_uri": "https://localhost:8080/"
        },
        "id": "8JcMLQJGzHLa",
        "outputId": "fd5ca9d5-82b8-4f6d-90ab-ba9739d6db06"
      },
      "execution_count": 5,
      "outputs": [
        {
          "output_type": "stream",
          "name": "stdout",
          "text": [
            "root\n",
            " |-- VendorID: long (nullable = true)\n",
            " |-- tpep_pickup_datetime: timestamp_ntz (nullable = true)\n",
            " |-- tpep_dropoff_datetime: timestamp_ntz (nullable = true)\n",
            " |-- passenger_count: double (nullable = true)\n",
            " |-- trip_distance: double (nullable = true)\n",
            " |-- RatecodeID: double (nullable = true)\n",
            " |-- store_and_fwd_flag: string (nullable = true)\n",
            " |-- PULocationID: long (nullable = true)\n",
            " |-- DOLocationID: long (nullable = true)\n",
            " |-- payment_type: long (nullable = true)\n",
            " |-- fare_amount: double (nullable = true)\n",
            " |-- extra: double (nullable = true)\n",
            " |-- mta_tax: double (nullable = true)\n",
            " |-- tip_amount: double (nullable = true)\n",
            " |-- tolls_amount: double (nullable = true)\n",
            " |-- improvement_surcharge: double (nullable = true)\n",
            " |-- total_amount: double (nullable = true)\n",
            " |-- congestion_surcharge: double (nullable = true)\n",
            " |-- airport_fee: double (nullable = true)\n",
            "\n"
          ]
        }
      ]
    },
    {
      "cell_type": "markdown",
      "source": [
        "Step 6 : Data Cleaning"
      ],
      "metadata": {
        "id": "kyh3cSk60SKm"
      }
    },
    {
      "cell_type": "code",
      "source": [
        "df_clean = df.filter(\n",
        "    (col(\"trip_distance\") > 0) &\n",
        "    (col(\"fare_amount\") > 0) &\n",
        "    (col(\"passenger_count\") > 0)\n",
        ")"
      ],
      "metadata": {
        "id": "nBOvc9UMzLJ4"
      },
      "execution_count": 6,
      "outputs": []
    },
    {
      "cell_type": "markdown",
      "source": [
        "Step 7 : Feature Engineering"
      ],
      "metadata": {
        "id": "l84rf_-x0abj"
      }
    },
    {
      "cell_type": "code",
      "source": [
        "df_features = df_clean.withColumn(\"pickup_hour\", hour(\"tpep_pickup_datetime\")) \\\n",
        "      .withColumn(\"pickup_day\", dayofweek(\"tpep_pickup_datetime\"))"
      ],
      "metadata": {
        "id": "SlL6j3mjzUFF"
      },
      "execution_count": 7,
      "outputs": []
    },
    {
      "cell_type": "markdown",
      "source": [
        "Step 8 : Perform Analysis"
      ],
      "metadata": {
        "id": "8Zz1NRJ-0lmt"
      }
    },
    {
      "cell_type": "code",
      "source": [
        "# 1. Average fare by hour\n",
        "avg_fare_by_hour = df_features.groupBy(\"pickup_hour\").agg(avg(\"fare_amount\").alias(\"avg_fare\")).orderBy(\"pickup_hour\")\n",
        "\n",
        "# 2. Most popular pickup hours\n",
        "popular_hours = df_features.groupBy(\"pickup_hour\").agg(count(\"*\").alias(\"trip_count\")).orderBy(col(\"trip_count\").desc())\n",
        "\n",
        "# 3. Average trip distance by day of the week\n",
        "avg_distance_by_day = df_features.groupBy(\"pickup_day\").agg(avg(\"trip_distance\").alias(\"avg_distance\")).orderBy(\"pickup_day\")"
      ],
      "metadata": {
        "id": "nFW0BYlnzZyY"
      },
      "execution_count": 8,
      "outputs": []
    },
    {
      "cell_type": "markdown",
      "source": [
        "Step 9 : Display the Results"
      ],
      "metadata": {
        "id": "3hlu872n0tdE"
      }
    },
    {
      "cell_type": "code",
      "source": [
        "print(\"🚕 Average fare by hour:\")\n",
        "avg_fare_by_hour.show()\n",
        "\n",
        "print(\"⏰ Most popular pickup hours:\")\n",
        "popular_hours.show()\n",
        "\n",
        "print(\"📅 Average trip distance by day of week:\")\n",
        "avg_distance_by_day.show()"
      ],
      "metadata": {
        "colab": {
          "base_uri": "https://localhost:8080/"
        },
        "id": "UB9lXD49zgWu",
        "outputId": "24091964-6549-4d05-8714-119778922693"
      },
      "execution_count": 9,
      "outputs": [
        {
          "output_type": "stream",
          "name": "stdout",
          "text": [
            "🚕 Average fare by hour:\n",
            "+-----------+------------------+\n",
            "|pickup_hour|          avg_fare|\n",
            "+-----------+------------------+\n",
            "|          0|19.802777784760078|\n",
            "|          1| 17.82256348420773|\n",
            "|          2|16.722530014716988|\n",
            "|          3| 17.73772003352903|\n",
            "|          4|22.253980171760563|\n",
            "|          5|26.456131830008786|\n",
            "|          6|22.150058079859775|\n",
            "|          7|18.919863108407178|\n",
            "|          8|17.425238969055147|\n",
            "|          9| 17.60772748768832|\n",
            "|         10|17.726938463244128|\n",
            "|         11|17.407977516487446|\n",
            "|         12| 17.75597548569939|\n",
            "|         13|18.462829446340645|\n",
            "|         14| 19.76365945811615|\n",
            "|         15|19.290242855602155|\n",
            "|         16|19.539086710022136|\n",
            "|         17|18.626508726030057|\n",
            "|         18|16.977947860339086|\n",
            "|         19|17.646060443500723|\n",
            "+-----------+------------------+\n",
            "only showing top 20 rows\n",
            "\n",
            "⏰ Most popular pickup hours:\n",
            "+-----------+----------+\n",
            "|pickup_hour|trip_count|\n",
            "+-----------+----------+\n",
            "|         18|    203607|\n",
            "|         17|    197226|\n",
            "|         15|    185460|\n",
            "|         16|    184673|\n",
            "|         19|    182683|\n",
            "|         14|    181035|\n",
            "|         13|    168768|\n",
            "|         12|    160233|\n",
            "|         20|    157380|\n",
            "|         21|    153387|\n",
            "|         11|    145262|\n",
            "|         22|    139955|\n",
            "|         10|    135285|\n",
            "|          9|    122644|\n",
            "|         23|    108338|\n",
            "|          8|    107901|\n",
            "|          0|     79567|\n",
            "|          7|     79552|\n",
            "|          1|     55565|\n",
            "|          6|     39945|\n",
            "+-----------+----------+\n",
            "only showing top 20 rows\n",
            "\n",
            "📅 Average trip distance by day of week:\n",
            "+----------+------------------+\n",
            "|pickup_day|      avg_distance|\n",
            "+----------+------------------+\n",
            "|         1|3.8921726250226745|\n",
            "|         2| 3.879620215562623|\n",
            "|         3|3.4009105221953697|\n",
            "|         4| 3.274090227366672|\n",
            "|         5| 3.397108322573177|\n",
            "|         6|3.3312403009841307|\n",
            "|         7|3.1712241047834384|\n",
            "+----------+------------------+\n",
            "\n"
          ]
        }
      ]
    },
    {
      "cell_type": "markdown",
      "source": [
        "Step 10 : Stop the Spark Session"
      ],
      "metadata": {
        "id": "cuW2wHuS00sf"
      }
    },
    {
      "cell_type": "code",
      "source": [
        "spark.stop()"
      ],
      "metadata": {
        "id": "doZtbmJqzmE9"
      },
      "execution_count": 10,
      "outputs": []
    }
  ]
}